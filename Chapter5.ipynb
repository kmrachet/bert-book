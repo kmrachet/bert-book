{
 "cells": [
  {
   "cell_type": "markdown",
   "metadata": {
    "id": "QB3WEyIVstl0"
   },
   "source": [
    "# 5章 文章の穴埋め\n",
    "\n",
    "- 以下で実行するコードには確率的な処理が含まれていることがあり、コードの出力結果と本書に記載されている出力例が異なることがあります。"
   ]
  },
  {
   "cell_type": "markdown",
   "metadata": {},
   "source": [
    "BERTは文章の一部を`[MASK]`トークンに変換したものを読み込み、`[MASK]`トークンに当てはまるトークンが何かを予測するかたちで事前学習を行っている。同様に、BERTは一部文章の穴埋めを行うことができる。"
   ]
  },
  {
   "cell_type": "markdown",
   "metadata": {},
   "source": [
    "## 5.1 パッケージのインストール"
   ]
  },
  {
   "cell_type": "markdown",
   "metadata": {},
   "source": [
    "文章の穴埋めには、`transformers.BertForMaskedLM`クラスを用いる。"
   ]
  },
  {
   "cell_type": "code",
   "execution_count": 1,
   "metadata": {},
   "outputs": [],
   "source": [
    "# 5-2\n",
    "\n",
    "import numpy as np\n",
    "import torch\n",
    "from transformers import BertJapaneseTokenizer, BertForMaskedLM"
   ]
  },
  {
   "cell_type": "markdown",
   "metadata": {},
   "source": [
    "## 5.2 BERTを用いた文章の穴埋め"
   ]
  },
  {
   "cell_type": "markdown",
   "metadata": {},
   "source": [
    "トークナイザと穴埋めモデルをロードする。<br>\n",
    "ロードにはそれぞれのクラスの`from_pretrained()`メソッドを使用する。"
   ]
  },
  {
   "cell_type": "code",
   "execution_count": 2,
   "metadata": {},
   "outputs": [
    {
     "name": "stderr",
     "output_type": "stream",
     "text": [
      "Some weights of the model checkpoint at cl-tohoku/bert-base-japanese-whole-word-masking were not used when initializing BertForMaskedLM: ['cls.seq_relationship.weight', 'cls.seq_relationship.bias']\n",
      "- This IS expected if you are initializing BertForMaskedLM from the checkpoint of a model trained on another task or with another architecture (e.g. initializing a BertForSequenceClassification model from a BertForPreTraining model).\n",
      "- This IS NOT expected if you are initializing BertForMaskedLM from the checkpoint of a model that you expect to be exactly identical (initializing a BertForSequenceClassification model from a BertForSequenceClassification model).\n"
     ]
    }
   ],
   "source": [
    "# 5-3\n",
    "\n",
    "model_name = \"cl-tohoku/bert-base-japanese-whole-word-masking\"\n",
    "tokenizer = BertJapaneseTokenizer.from_pretrained(model_name)\n",
    "model = BertForMaskedLM.from_pretrained(model_name)"
   ]
  },
  {
   "cell_type": "markdown",
   "metadata": {},
   "source": [
    "<br>\n",
    "\n",
    "モデルをGPUメモリ上で動作させるには、以下を実行しておく"
   ]
  },
  {
   "cell_type": "code",
   "execution_count": 3,
   "metadata": {},
   "outputs": [],
   "source": [
    "# model = model.cuda()"
   ]
  },
  {
   "cell_type": "markdown",
   "metadata": {},
   "source": [
    "<br>\n",
    "\n",
    "今回は、\n",
    "```\n",
    "今日は[MASK]へ行く。\n",
    "```\n",
    "という文章の`[MASK]`トークンの穴埋めをする。まずは文章をトークン化して確認してみる。"
   ]
  },
  {
   "cell_type": "code",
   "execution_count": 4,
   "metadata": {},
   "outputs": [
    {
     "name": "stdout",
     "output_type": "stream",
     "text": [
      "['今日', 'は', '[MASK]', 'へ', '行く', '。']\n"
     ]
    }
   ],
   "source": [
    "# 5-4\n",
    "\n",
    "text = \"今日は[MASK]へ行く。\"\n",
    "tokens = tokenizer.tokenize(text)\n",
    "print(tokens)"
   ]
  },
  {
   "cell_type": "markdown",
   "metadata": {},
   "source": [
    "<br>\n",
    "\n",
    "`transformers.BertForMaskedLM`に符号化した文章を渡す。"
   ]
  },
  {
   "cell_type": "code",
   "execution_count": 5,
   "metadata": {},
   "outputs": [],
   "source": [
    "# 5-5\n",
    "# 符号化した文章のみほしい、系列長を揃える必要がない\n",
    "# のでtokenizer()関数は必要なし\n",
    "input_ids = tokenizer.encode(text, return_tensors='pt')\n",
    "# input_ids = input_ids.cuda()\n",
    "\n",
    "# BERTに入力する\n",
    "with torch.no_grad():\n",
    "    output = model(input_ids=input_ids) # 可変長引数を用いない場合、引数を指定する\n",
    "    scores = output.logits"
   ]
  },
  {
   "cell_type": "code",
   "execution_count": 6,
   "metadata": {},
   "outputs": [
    {
     "data": {
      "text/plain": [
       "torch.Size([1, 8, 32000])"
      ]
     },
     "execution_count": 6,
     "metadata": {},
     "output_type": "execute_result"
    }
   ],
   "source": [
    "scores.size()"
   ]
  },
  {
   "cell_type": "markdown",
   "metadata": {},
   "source": [
    "出力`transformers.modeling_outputs.MaskedLMOutput`のクラス変数`output.logits`として、語彙に含まれる各トークンの分類スコアを表すテンソル`scores`を得られる。<br>\n",
    "具体的には、トークン化した文章 + 文頭トークン`[CLS]` + 文末トークン`[SEP]`の8トークンに対し、`WordPiece`が持つ32000語彙のそれぞれに当てはまる確率を計算する。\n",
    "\n",
    "モデルが穴埋めした結果を見ていく。"
   ]
  },
  {
   "cell_type": "code",
   "execution_count": 7,
   "metadata": {},
   "outputs": [
    {
     "data": {
      "text/plain": [
       "'今日は東京へ行く。'"
      ]
     },
     "execution_count": 7,
     "metadata": {},
     "output_type": "execute_result"
    }
   ],
   "source": [
    "# 5-6\n",
    "# [MASK]トークン(トークンID:4)の位置\n",
    "mask_position = input_ids[0].tolist().index(4)\n",
    "\n",
    "# スコアが最もいいトークンのID(インデックス)を取り出す\n",
    "id_best = scores[0, mask_position].argmax().item()\n",
    "\n",
    "# トークンIDをトークンに置き換える\n",
    "token_best = tokenizer.convert_ids_to_tokens(id_best)\n",
    "\n",
    "# サブワードの頭につく\"##\"を削除する\n",
    "token_best = token_best.replace(\"##\", \"\")\n",
    "\n",
    "# [MASK]をトークンに置き換える\n",
    "text.replace(\"[MASK]\", token_best)"
   ]
  },
  {
   "cell_type": "code",
   "execution_count": 8,
   "metadata": {},
   "outputs": [
    {
     "data": {
      "text/plain": [
       "391"
      ]
     },
     "execution_count": 8,
     "metadata": {},
     "output_type": "execute_result"
    }
   ],
   "source": [
    "id_best"
   ]
  },
  {
   "cell_type": "markdown",
   "metadata": {},
   "source": [
    "<br>\n",
    "\n",
    "モデルが推論したスコア上位のトークンを抜き出してみる。<br>\n",
    "関数を作成する。"
   ]
  },
  {
   "cell_type": "code",
   "execution_count": 9,
   "metadata": {},
   "outputs": [],
   "source": [
    "# 5-7\n",
    "\n",
    "def predict_mask_topk(\n",
    "    text: str,\n",
    "    tokeniser: BertJapaneseTokenizer, \n",
    "    model: BertForMaskedLM,\n",
    "    num_topk: int = 1\n",
    ") -> (list, torch.Tensor):\n",
    "    input_ids = tokenizer.encode(text, return_tensors='pt')\n",
    "    # input_ids = input_ids.cuda()\n",
    "    with torch.no_grad():\n",
    "        output = model(input_ids=input_ids)\n",
    "        scores = output.logits\n",
    "\n",
    "    mask_position = input_ids[0].tolist().index(4)\n",
    "    # torch.Tensor.topk(k)でtorch.Tensorの各要素のうち引数に指定した最大数k個だけ抜き出す\n",
    "    scores_topk = scores[0][mask_position].topk(num_topk)\n",
    "    \n",
    "    values_topk = scores_topk.values.numpy() # GPUメモリに渡している場合、scores_topk.values.cpu().numpy()\n",
    "    ids_topk = scores_topk.indices\n",
    "    tokens_topk = tokenizer.convert_ids_to_tokens(ids_topk)\n",
    "    text_topk = [text.replace('[MASK]', token.replace(\"##\", \"\"), 1) for token in tokens_topk] # 最初のトークンのみ変換する\n",
    "\n",
    "    return (text_topk, values_topk)"
   ]
  },
  {
   "cell_type": "code",
   "execution_count": 10,
   "metadata": {},
   "outputs": [
    {
     "name": "stdout",
     "output_type": "stream",
     "text": [
      "今日は東京へ行く。\n",
      "今日はハワイへ行く。\n",
      "今日は学校へ行く。\n",
      "今日はニューヨークへ行く。\n",
      "今日はどこへ行く。\n",
      "今日は空港へ行く。\n",
      "今日はアメリカへ行く。\n",
      "今日は病院へ行く。\n",
      "今日はそこへ行く。\n",
      "今日はロンドンへ行く。\n"
     ]
    }
   ],
   "source": [
    "text_topk, _ = predict_mask_topk(text, tokenizer, model, 10)\n",
    "print(*text_topk, sep=\"\\n\")"
   ]
  },
  {
   "cell_type": "markdown",
   "metadata": {},
   "source": [
    "自然な文章が出力されているのがわかる。"
   ]
  },
  {
   "cell_type": "markdown",
   "metadata": {},
   "source": [
    "## 5.3 貪欲法を用いた複数`[MASK]`の穴埋め"
   ]
  },
  {
   "cell_type": "markdown",
   "metadata": {},
   "source": [
    "次に、複数`[MASK]`がある場合を考える。\n",
    "```\n",
    "今日は[MASK][MASK]へ行く。\n",
    "```\n",
    "という文章の場合、`[MASK]`の組み合わせは$32000^2$通りとなるため、貪欲法という手法を用いて計算量を近似的に減らす。<br>\n",
    "貪欲法は、\n",
    "\n",
    "1. 一番最初にある`[MASK]`を最も高いスコアのトークンで穴埋めする。\n",
    "2. 穴埋め後の文章に対して次の`[MASK]`を穴埋めする。\n",
    "\n",
    "という処理を繰り返す。これにより、計算量$O$を$O=32000^2$から$O=32000\\cdot2$まで減らすことができた。"
   ]
  },
  {
   "cell_type": "code",
   "execution_count": 11,
   "metadata": {},
   "outputs": [],
   "source": [
    "# 5-8\n",
    "\n",
    "def greedy_prediction(\n",
    "    text: str,\n",
    "    tokenizer: BertJapaneseTokenizer,\n",
    "    model: BertForMaskedLM\n",
    ") -> str:\n",
    "    for _ in range(text.count(\"[MASK]\")):\n",
    "        text, _ = predict_mask_topk(text, tokenizer, model, 1)\n",
    "        text = text[0]\n",
    "    return text"
   ]
  },
  {
   "cell_type": "code",
   "execution_count": 12,
   "metadata": {},
   "outputs": [
    {
     "data": {
      "text/plain": [
       "'今日は、東京へ行く。'"
      ]
     },
     "execution_count": 12,
     "metadata": {},
     "output_type": "execute_result"
    }
   ],
   "source": [
    "text = \"今日は[MASK][MASK]へ行く。\"\n",
    "greedy_prediction(text, tokenizer, model)"
   ]
  },
  {
   "cell_type": "markdown",
   "metadata": {},
   "source": [
    "自然な文章が出力されているのがわかる。\n",
    "\n",
    "一方で、BERTはコレまでの$N$グラム法のような、文章を前から順に出力するといったタスクは苦手である。"
   ]
  },
  {
   "cell_type": "code",
   "execution_count": 13,
   "metadata": {},
   "outputs": [
    {
     "data": {
      "text/plain": [
       "'今日は社会社会的な地位'"
      ]
     },
     "execution_count": 13,
     "metadata": {},
     "output_type": "execute_result"
    }
   ],
   "source": [
    "# 5-9\n",
    "\n",
    "text = \"今日は[MASK][MASK][MASK][MASK][MASK]\"\n",
    "greedy_prediction(text, tokenizer, model)"
   ]
  },
  {
   "cell_type": "markdown",
   "metadata": {},
   "source": [
    "これは、BERTが事前学習において、文章のうちごく少数のトークンをマスクし、まわりの文脈から元のトークンを置き換えていることによる。"
   ]
  },
  {
   "cell_type": "markdown",
   "metadata": {},
   "source": [
    "## 5.4 ビームサーチによる画像の穴埋め"
   ]
  },
  {
   "cell_type": "markdown",
   "metadata": {
    "jp-MarkdownHeadingCollapsed": true
   },
   "source": [
    "貪欲法では最初の`[MASK]`から順番に1トークンずつ最も高いスコアで置き換えるが、これは全トークンの合計スコアが最も高いことを保証しない。そこで、よりよい近似手法として「ビームサーチ」を用いる。<br>\n",
    "ビームサーチは、まず1つ目の`[MASK]`について上位$N$のトークンを穴埋めした文章を出力する。次に、生成された$N$の文章に対し、2つ目の`[MASK]`について上位$N$のトークンを穴埋めした文章を出力する。これにより生成された$N^2$の文章に対し、スコアの合計値が高い$N$の文章を選択する。その後は選択された$N$の文章に対し、同様に穴埋めを行う。\n",
    "\n",
    "ビームサーチは、以下のように実装する。"
   ]
  },
  {
   "cell_type": "code",
   "execution_count": 14,
   "metadata": {},
   "outputs": [],
   "source": [
    "# 5-10\n",
    "\n",
    "def beam_search(\n",
    "    text: str, \n",
    "    tokenizer: BertJapaneseTokenizer, \n",
    "    model: BertForMaskedLM,\n",
    "    num_topk: int = 10\n",
    ") -> list:\n",
    "    num_mask = text.count(\"[MASK]\")\n",
    "    text_topk = [text]\n",
    "    scores_topk = np.array([0])\n",
    "    \n",
    "    for _ in range(num_mask):\n",
    "        results = []\n",
    "        for text, score in zip(text_topk, scores_topk):\n",
    "            text_topk_tmp, scores_topk_tmp = predict_mask_topk(\n",
    "                text, tokenizer, model, num_topk\n",
    "            )\n",
    "            tmp = np.vstack([text_topk_tmp, scores_topk_tmp + score], dtype='object').T\n",
    "            results.append(tmp)\n",
    "        results = np.vstack(results)\n",
    "        results = results[np.argsort(results[:, -1])[::-1]][:10, :]\n",
    "        text_topk = results[:10, :][:, 0].tolist()\n",
    "        scores_topk = results[:10, :][:, 1]\n",
    "    return text_topk"
   ]
  },
  {
   "cell_type": "code",
   "execution_count": 15,
   "metadata": {},
   "outputs": [
    {
     "name": "stdout",
     "output_type": "stream",
     "text": [
      "今日はお台場へ行く。\n",
      "今日はお祭りへ行く。\n",
      "今日はゲームセンターへ行く。\n",
      "今日はお風呂へ行く。\n",
      "今日はゲームショップへ行く。\n",
      "今日は東京ディズニーランドへ行く。\n",
      "今日はお店へ行く。\n",
      "今日は同じ場所へ行く。\n",
      "今日はあの場所へ行く。\n",
      "今日は同じ学校へ行く。\n"
     ]
    }
   ],
   "source": [
    "text = \"今日は[MASK][MASK]へ行く。\"\n",
    "text_topk = beam_search(text, tokenizer, model, 10)\n",
    "print(*text_topk, sep=\"\\n\")"
   ]
  },
  {
   "cell_type": "markdown",
   "metadata": {},
   "source": [
    "貪欲法と同様に自然な文章が出力されていることがわかる。\n",
    "\n",
    "一方で、文章中に`[MASK]`トークンが多い場合、自然な文章の生成は難しい。"
   ]
  },
  {
   "cell_type": "code",
   "execution_count": 16,
   "metadata": {},
   "outputs": [
    {
     "name": "stdout",
     "output_type": "stream",
     "text": [
      "今日は社会社会学会所属。\n",
      "今日は社会社会学会会長。\n",
      "今日は社会社会に属する。\n",
      "今日は時代社会に属する。\n",
      "今日は社会社会学会理事。\n",
      "今日は時代社会にあたる。\n",
      "今日は社会社会にある。\n",
      "今日は社会社会学会会員。\n",
      "今日は時代社会にある。\n",
      "今日は社会社会になる。\n"
     ]
    }
   ],
   "source": [
    "# 5-11\n",
    "\n",
    "text = \"今日は[MASK][MASK][MASK][MASK][MASK]\"\n",
    "text_topk = beam_search(text, tokenizer, model, 10)\n",
    "print(*text_topk, sep=\"\\n\")"
   ]
  }
 ],
 "metadata": {
  "accelerator": "GPU",
  "colab": {
   "collapsed_sections": [],
   "name": "Chapter05.ipynb",
   "provenance": []
  },
  "kernelspec": {
   "display_name": "Python 3 (ipykernel)",
   "language": "python",
   "name": "python3"
  },
  "language_info": {
   "codemirror_mode": {
    "name": "ipython",
    "version": 3
   },
   "file_extension": ".py",
   "mimetype": "text/x-python",
   "name": "python",
   "nbconvert_exporter": "python",
   "pygments_lexer": "ipython3",
   "version": "3.10.11"
  }
 },
 "nbformat": 4,
 "nbformat_minor": 4
}
