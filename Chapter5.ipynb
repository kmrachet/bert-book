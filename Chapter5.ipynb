{
 "cells": [
  {
   "cell_type": "markdown",
   "metadata": {
    "id": "QB3WEyIVstl0"
   },
   "source": [
    "# 5章 文章の穴埋め\n",
    "\n",
    "- 以下で実行するコードには確率的な処理が含まれていることがあり、コードの出力結果と本書に記載されている出力例が異なることがあります。"
   ]
  },
  {
   "cell_type": "markdown",
   "metadata": {},
   "source": [
    "BERTは文章の一部を`[MASK]`トークンに変換したものを読み込み、`[MASK]`トークンに当てはまるトークンが何かを予測するかたちで事前学習を行っている。同様に、BERTは一部文章の穴埋めを行うことができる。"
   ]
  },
  {
   "cell_type": "markdown",
   "metadata": {},
   "source": [
    "## 5.1 パッケージのインストール"
   ]
  },
  {
   "cell_type": "markdown",
   "metadata": {},
   "source": [
    "文章の穴埋めには、`transformers.BertForMaskedLM`クラスを用いる。"
   ]
  },
  {
   "cell_type": "code",
   "execution_count": 4,
   "metadata": {},
   "outputs": [],
   "source": [
    "# 5-2\n",
    "\n",
    "import numpy as np\n",
    "import torch\n",
    "from transformers import BertJapaneseTokenizer, BertForMaskedLM"
   ]
  },
  {
   "cell_type": "markdown",
   "metadata": {},
   "source": [
    "## 5.2 BERTを用いた文章の穴埋め"
   ]
  },
  {
   "cell_type": "markdown",
   "metadata": {},
   "source": [
    "トークナイザと穴埋めモデルをロードする。<br>\n",
    "ロードにはそれぞれのクラスの`from_pretrained()`メソッドを使用する。"
   ]
  },
  {
   "cell_type": "code",
   "execution_count": 7,
   "metadata": {},
   "outputs": [
    {
     "name": "stderr",
     "output_type": "stream",
     "text": [
      "Some weights of the model checkpoint at cl-tohoku/bert-base-japanese-whole-word-masking were not used when initializing BertForMaskedLM: ['cls.seq_relationship.bias', 'cls.seq_relationship.weight']\n",
      "- This IS expected if you are initializing BertForMaskedLM from the checkpoint of a model trained on another task or with another architecture (e.g. initializing a BertForSequenceClassification model from a BertForPreTraining model).\n",
      "- This IS NOT expected if you are initializing BertForMaskedLM from the checkpoint of a model that you expect to be exactly identical (initializing a BertForSequenceClassification model from a BertForSequenceClassification model).\n"
     ]
    }
   ],
   "source": [
    "# 5-3\n",
    "\n",
    "model_name = \"cl-tohoku/bert-base-japanese-whole-word-masking\"\n",
    "tokenizer = BertJapaneseTokenizer.from_pretrained(model_name)\n",
    "model = BertForMaskedLM.from_pretrained(model_name)"
   ]
  },
  {
   "cell_type": "markdown",
   "metadata": {},
   "source": [
    "<br>\n",
    "\n",
    "モデルをGPUメモリ上で動作させるには、以下を実行しておく"
   ]
  },
  {
   "cell_type": "code",
   "execution_count": 8,
   "metadata": {},
   "outputs": [],
   "source": [
    "# model = model.cuda()"
   ]
  },
  {
   "cell_type": "markdown",
   "metadata": {},
   "source": [
    "<br>\n",
    "\n",
    "今回は、\n",
    "```\n",
    "今日は[MASK]へ行く。\n",
    "```\n",
    "という文章の`[MASK]`トークンの穴埋めをする。まずは文章をトークン化して確認してみる。"
   ]
  },
  {
   "cell_type": "code",
   "execution_count": 9,
   "metadata": {},
   "outputs": [
    {
     "name": "stdout",
     "output_type": "stream",
     "text": [
      "['今日', 'は', '[MASK]', 'へ', '行く', '。']\n"
     ]
    }
   ],
   "source": [
    "# 5-4\n",
    "\n",
    "text = \"今日は[MASK]へ行く。\"\n",
    "tokens = tokenizer.tokenize(text)\n",
    "print(tokens)"
   ]
  },
  {
   "cell_type": "markdown",
   "metadata": {},
   "source": [
    "<br>\n",
    "\n",
    "`transformers.BertForMaskedLM`に符号化した文章を渡す。"
   ]
  },
  {
   "cell_type": "code",
   "execution_count": 11,
   "metadata": {},
   "outputs": [],
   "source": [
    "# 5-5\n",
    "# 符号化した文章のみほしい、系列長を揃える必要がない\n",
    "# のでtokenizer()関数は必要なし\n",
    "input_ids = tokenizer.encode(text, return_tensors='pt')\n",
    "# input_ids = input_ids.cuda()\n",
    "\n",
    "# BERTに入力する\n",
    "with torch.no_grad():\n",
    "    output = model(input_ids=input_ids) # 可変長引数を用いない場合、引数を指定する\n",
    "    scores = output.logits"
   ]
  },
  {
   "cell_type": "code",
   "execution_count": 14,
   "metadata": {},
   "outputs": [
    {
     "data": {
      "text/plain": [
       "torch.Size([1, 8, 32000])"
      ]
     },
     "execution_count": 14,
     "metadata": {},
     "output_type": "execute_result"
    }
   ],
   "source": [
    "scores.size()"
   ]
  },
  {
   "cell_type": "markdown",
   "metadata": {},
   "source": [
    "出力`transformers.modeling_outputs.MaskedLMOutput`のクラス変数`output.logits`として、語彙に含まれる各トークンの分類スコアを表すテンソル`scores`を得られる。<br>\n",
    "具体的には、トークン化した文章 + 文頭トークン`[CLS]` + 文末トークン`[SEP]`の8トークンに対し、`WordPiece`が持つ32000語彙のそれぞれに当てはまる確率を計算する。\n",
    "\n",
    "モデルが穴埋めした結果を見ていく。"
   ]
  },
  {
   "cell_type": "code",
   "execution_count": 50,
   "metadata": {},
   "outputs": [
    {
     "data": {
      "text/plain": [
       "'今日は東京へ行く。'"
      ]
     },
     "execution_count": 50,
     "metadata": {},
     "output_type": "execute_result"
    }
   ],
   "source": [
    "# 5-6\n",
    "# [MASK]トークンの位置\n",
    "mask_position = input_ids[0].tolist().index(4)\n",
    "\n",
    "# スコアが最もいいトークンのID(インデックス)を取り出す\n",
    "id_best = scores[0, mask_position].argmax().item()\n",
    "\n",
    "# トークンIDをトークンに置き換える\n",
    "token_best = tokenizer.convert_ids_to_tokens(id_best)\n",
    "\n",
    "# [MASK]をトークンに置き換える\n",
    "text.replace(\"[MASK]\", token_best)"
   ]
  },
  {
   "cell_type": "code",
   "execution_count": null,
   "metadata": {
    "id": "TgbIA-1-EVaJ"
   },
   "outputs": [],
   "source": [
    "# 5-7\n",
    "def predict_mask_topk(text, tokenizer, bert_mlm, num_topk):\n",
    "    \"\"\"\n",
    "    文章中の最初の[MASK]をスコアの上位のトークンに置き換える。\n",
    "    上位何位まで使うかは、num_topkで指定。\n",
    "    出力は穴埋めされた文章のリストと、置き換えられたトークンのスコアのリスト。\n",
    "    \"\"\"\n",
    "    # 文章を符号化し、BERTで分類スコアを得る。\n",
    "    input_ids = tokenizer.encode(text, return_tensors='pt')\n",
    "    input_ids = input_ids.cuda()\n",
    "    with torch.no_grad():\n",
    "        output = bert_mlm(input_ids=input_ids)\n",
    "    scores = output.logits\n",
    "\n",
    "    # スコアが上位のトークンとスコアを求める。\n",
    "    mask_position = input_ids[0].tolist().index(4) \n",
    "    topk = scores[0, mask_position].topk(num_topk)\n",
    "    ids_topk = topk.indices # トークンのID\n",
    "    tokens_topk = tokenizer.convert_ids_to_tokens(ids_topk) # トークン\n",
    "    scores_topk = topk.values.cpu().numpy() # スコア\n",
    "\n",
    "    # 文章中の[MASK]を上で求めたトークンで置き換える。\n",
    "    text_topk = [] # 穴埋めされたテキストを追加する。\n",
    "    for token in tokens_topk:\n",
    "        token = token.replace('##', '')\n",
    "        text_topk.append(text.replace('[MASK]', token, 1))\n",
    "\n",
    "    return text_topk, scores_topk\n",
    "\n",
    "text = '今日は[MASK]へ行く。'\n",
    "text_topk, _ = predict_mask_topk(text, tokenizer, bert_mlm, 10)\n",
    "print(*text_topk, sep='\\n')"
   ]
  },
  {
   "cell_type": "code",
   "execution_count": null,
   "metadata": {
    "id": "yCaGV_rT3A5N"
   },
   "outputs": [],
   "source": [
    "# 5-8\n",
    "def greedy_prediction(text, tokenizer, bert_mlm):\n",
    "    \"\"\"\n",
    "    [MASK]を含む文章を入力として、貪欲法で穴埋めを行った文章を出力する。\n",
    "    \"\"\"\n",
    "    # 前から順に[MASK]を一つづつ、スコアの最も高いトークンに置き換える。\n",
    "    for _ in range(text.count('[MASK]')):\n",
    "        text = predict_mask_topk(text, tokenizer, bert_mlm, 1)[0][0]\n",
    "    return text\n",
    "\n",
    "text = '今日は[MASK][MASK]へ行く。'\n",
    "greedy_prediction(text, tokenizer, bert_mlm)"
   ]
  },
  {
   "cell_type": "code",
   "execution_count": null,
   "metadata": {
    "id": "prdEvsxBrrGq"
   },
   "outputs": [],
   "source": [
    "# 5-9\n",
    "text = '今日は[MASK][MASK][MASK][MASK][MASK]'\n",
    "greedy_prediction(text, tokenizer, bert_mlm)"
   ]
  },
  {
   "cell_type": "code",
   "execution_count": null,
   "metadata": {
    "id": "yHRemOdN0QE9"
   },
   "outputs": [],
   "source": [
    "# 5-10\n",
    "def beam_search(text, tokenizer, bert_mlm, num_topk):\n",
    "    \"\"\"\n",
    "    ビームサーチで文章の穴埋めを行う。\n",
    "    \"\"\"\n",
    "    num_mask = text.count('[MASK]')\n",
    "    text_topk = [text]\n",
    "    scores_topk = np.array([0])\n",
    "    for _ in range(num_mask):\n",
    "        # 現在得られている、それぞれの文章に対して、\n",
    "        # 最初の[MASK]をスコアが上位のトークンで穴埋めする。\n",
    "        text_candidates = [] # それぞれの文章を穴埋めした結果を追加する。\n",
    "        score_candidates = [] # 穴埋めに使ったトークンのスコアを追加する。\n",
    "        for text_mask, score in zip(text_topk, scores_topk):\n",
    "            text_topk_inner, scores_topk_inner = predict_mask_topk(\n",
    "                text_mask, tokenizer, bert_mlm, num_topk\n",
    "            )\n",
    "            text_candidates.extend(text_topk_inner)\n",
    "            score_candidates.append( score + scores_topk_inner )\n",
    "\n",
    "        # 穴埋めにより生成された文章の中から合計スコアの高いものを選ぶ。\n",
    "        score_candidates = np.hstack(score_candidates)\n",
    "        idx_list = score_candidates.argsort()[::-1][:num_topk]\n",
    "        text_topk = [ text_candidates[idx] for idx in idx_list ]\n",
    "        scores_topk = score_candidates[idx_list]\n",
    "\n",
    "    return text_topk\n",
    "\n",
    "text = \"今日は[MASK][MASK]へ行く。\"\n",
    "text_topk = beam_search(text, tokenizer, bert_mlm, 10)\n",
    "print(*text_topk, sep='\\n')"
   ]
  },
  {
   "cell_type": "code",
   "execution_count": null,
   "metadata": {
    "id": "5mhL-VSTvUo7"
   },
   "outputs": [],
   "source": [
    "# 5-11\n",
    "text = '今日は[MASK][MASK][MASK][MASK][MASK]'\n",
    "text_topk = beam_search(text, tokenizer, bert_mlm, 10)\n",
    "print(*text_topk, sep='\\n')"
   ]
  }
 ],
 "metadata": {
  "accelerator": "GPU",
  "colab": {
   "collapsed_sections": [],
   "name": "Chapter05.ipynb",
   "provenance": []
  },
  "kernelspec": {
   "display_name": "Python 3 (ipykernel)",
   "language": "python",
   "name": "python3"
  },
  "language_info": {
   "codemirror_mode": {
    "name": "ipython",
    "version": 3
   },
   "file_extension": ".py",
   "mimetype": "text/x-python",
   "name": "python",
   "nbconvert_exporter": "python",
   "pygments_lexer": "ipython3",
   "version": "3.10.11"
  }
 },
 "nbformat": 4,
 "nbformat_minor": 4
}
